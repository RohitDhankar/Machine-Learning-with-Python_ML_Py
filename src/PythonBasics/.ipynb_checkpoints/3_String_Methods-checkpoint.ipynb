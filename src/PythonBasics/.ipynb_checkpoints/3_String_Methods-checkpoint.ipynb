{
 "cells": [
  {
   "cell_type": "code",
   "execution_count": null,
   "metadata": {},
   "outputs": [],
   "source": [
    "# JOIN better than STRING CONCAT "
   ]
  },
  {
   "cell_type": "code",
   "execution_count": 3,
   "metadata": {},
   "outputs": [
    {
     "name": "stdout",
     "output_type": "stream",
     "text": [
      "Turing Test\n",
      "TuringTest\n"
     ]
    }
   ],
   "source": [
    "str_1 = \"Turing\"\n",
    "str_2 = \"Test\"\n",
    "\n",
    "# Not Preffered \n",
    "\n",
    "str_plus = str_1 +\" \"+ str_2\n",
    "\n",
    "print(str_plus)\n",
    "\n",
    "# Preffered and perfromant \n",
    "\n",
    "str_join = \" \".join([str_1+str_2])\n",
    "\n",
    "print(str_join)\n",
    "\n",
    "# time - it "
   ]
  }
 ],
 "metadata": {
  "kernelspec": {
   "display_name": "Python 3",
   "language": "python",
   "name": "python3"
  },
  "language_info": {
   "codemirror_mode": {
    "name": "ipython",
    "version": 3
   },
   "file_extension": ".py",
   "mimetype": "text/x-python",
   "name": "python",
   "nbconvert_exporter": "python",
   "pygments_lexer": "ipython3",
   "version": "3.7.4"
  }
 },
 "nbformat": 4,
 "nbformat_minor": 4
}
